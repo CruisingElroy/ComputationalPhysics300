{
 "cells": [
  {
   "cell_type": "code",
   "execution_count": 2,
   "id": "35a70002",
   "metadata": {},
   "outputs": [
    {
     "name": "stdout",
     "output_type": "stream",
     "text": [
      "minimum value:    -2.9998650296000307\n"
     ]
    }
   ],
   "source": [
    "import numpy as np\n",
    "import matplotlib.pyplot as plt\n",
    "\n",
    "r = np.linspace(1.0,3.0,100)\n",
    "\n",
    "#If r is the distance between atoms, then we need to do it for an extra atom, meaning we need a 3-d graph.\n",
    "\n",
    "def LJ(r):\n",
    "    r6 = r**6\n",
    "    r12 = r6*r6\n",
    "    return 4*(1/r12 - 1/r6)\n",
    "\n",
    "min1 = min(LJ(r))\n",
    "\n",
    "def LJ2(r): \n",
    "    '''Now it's like an isosceles triangle. This model doesn't consider that the extra atom could affect how the original \n",
    "    two could interact with each other, but since their energy levels-- and thus, positions-- are already locked in place \n",
    "    it shouldn't be an issue as long as they continue to not move, which they shouldn't. Obviously, this would be much \n",
    "    harder if I didn't know an isosceles triangle was what I needed, but since I do, I can know that is the same for the \n",
    "    distance between all atoms and simply run the function again, multiplying its result by 2.\n",
    "    '''\n",
    "    r6 = r**6\n",
    "    r12 = r6*r6\n",
    "    return 2*4*(1/r12 - 1/r6)\n",
    "\n",
    "#r = np.linspace(1.0,3.0,100)\n",
    "#plt.plot(r, LJ(r))\n",
    "#plt.show()\n",
    "\n",
    "print('minimum value:   ', min(LJ(r)) + min(LJ2(r))) #Really, this is more a use of geometrical proof than a program. :/\n",
    "#But it works!"
   ]
  },
  {
   "cell_type": "code",
   "execution_count": null,
   "id": "5f88bd23",
   "metadata": {},
   "outputs": [],
   "source": []
  }
 ],
 "metadata": {
  "kernelspec": {
   "display_name": "Python 3 (ipykernel)",
   "language": "python",
   "name": "python3"
  },
  "language_info": {
   "codemirror_mode": {
    "name": "ipython",
    "version": 3
   },
   "file_extension": ".py",
   "mimetype": "text/x-python",
   "name": "python",
   "nbconvert_exporter": "python",
   "pygments_lexer": "ipython3",
   "version": "3.9.5"
  }
 },
 "nbformat": 4,
 "nbformat_minor": 5
}
