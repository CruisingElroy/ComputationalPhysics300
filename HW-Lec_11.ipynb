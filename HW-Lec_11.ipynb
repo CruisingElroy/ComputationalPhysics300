{
 "cells": [
  {
   "cell_type": "code",
   "execution_count": 10,
   "id": "fe7da133",
   "metadata": {},
   "outputs": [
    {
     "name": "stdout",
     "output_type": "stream",
     "text": [
      "0.004891916188979529\n",
      "0.96544\n"
     ]
    }
   ],
   "source": [
    "import numpy as np\n",
    "import matplotlib.pyplot as plt\n",
    "from random import random\n",
    "\n",
    "def MC(width, height, function, sample_size):\n",
    "    count = 0 # We return the thingy known as \"I\", and count is the thingamabob called \"k\"\n",
    "    for i in range(sample_size):\n",
    "        x = width*random()\n",
    "        y = height*random()\n",
    "        if y < function(x):\n",
    "            count += 1\n",
    "    p = count/sample_size\n",
    "    print(((p*(1-p))/sample_size)**(1/2))\n",
    "    return (width*height*count)/sample_size \n",
    "\n",
    "#The functions are (x-1)^2 + y^2 = 1 and x^2 + (y-2)^2 = 4. Intersect at (8/5, 4/5)\n",
    "def f(x):\n",
    "    return np.sqrt(1-(x-1)**2) - (2-np.sqrt(4-x**2))\n",
    "\n",
    "w = 8/5\n",
    "h = 1\n",
    "N = 10000\n",
    "\n",
    "print(MC(w, h, f, N)) #Should get ~.961739 according to WolframAlpha"
   ]
  },
  {
   "cell_type": "code",
   "execution_count": 6,
   "id": "ab235238",
   "metadata": {},
   "outputs": [],
   "source": [
    "#And there we go, ez pz this probably shouldn't be my introduction to advanced statistics but I seem to be handling it so far"
   ]
  },
  {
   "cell_type": "code",
   "execution_count": null,
   "id": "039b8da9",
   "metadata": {},
   "outputs": [],
   "source": [
    "#Also, as a final note, yes I did remember to try it for different values of N,& deviation decreases as N increases."
   ]
  }
 ],
 "metadata": {
  "kernelspec": {
   "display_name": "Python 3 (ipykernel)",
   "language": "python",
   "name": "python3"
  },
  "language_info": {
   "codemirror_mode": {
    "name": "ipython",
    "version": 3
   },
   "file_extension": ".py",
   "mimetype": "text/x-python",
   "name": "python",
   "nbconvert_exporter": "python",
   "pygments_lexer": "ipython3",
   "version": "3.9.5"
  }
 },
 "nbformat": 4,
 "nbformat_minor": 5
}
