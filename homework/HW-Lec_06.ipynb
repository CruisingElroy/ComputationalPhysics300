{
 "cells": [
  {
   "cell_type": "code",
   "execution_count": 1,
   "id": "521509c9",
   "metadata": {},
   "outputs": [
    {
     "name": "stdout",
     "output_type": "stream",
     "text": [
      "2447732.788009265\n"
     ]
    },
    {
     "data": {
      "image/png": "[encoded data removed]",
      "text/plain": [
       "<Figure size 432x288 with 1 Axes>"
      ]
     },
     "metadata": {
      "needs_background": "light"
     },
     "output_type": "display_data"
    }
   ],
   "source": [
    "import matplotlib.pyplot as plt\n",
    "import numpy as np\n",
    "\n",
    "#Copy-paste our good buddy-boy Simpson here to help us out. Shoutouts to Simp\n",
    "def Simpson1(start, end, parts, f):\n",
    "    \"\"\"\n",
    "    Simpson sum rule\n",
    "\n",
    "    \"\"\"\n",
    "    \n",
    "\n",
    "    #define the X,Y points\n",
    "    deltax = (end - start) / parts\n",
    "    resultsx = np.linspace(start, end, parts+1)\n",
    "    #resultsx = np.append(resultsx, end+deltax)\n",
    "    resultsy = f(resultsx)\n",
    "\n",
    "    area = 0\n",
    "    for i in range(parts+1):\n",
    "        if i == 0 or i == parts:\n",
    "            coef = 1/3\n",
    "        elif i%2 == 1:\n",
    "            coef = 4/3\n",
    "        else: \n",
    "            coef = 2/3\n",
    "        area += coef*resultsy[i]*deltax\n",
    "\n",
    "\n",
    "    return area #Credit for this integration code goes to Lec_05\n",
    "\n",
    "bignum = 6.022e28 * 1.38e-23\n",
    "\n",
    "#define the function\n",
    "integrand = lambda x: (x**4 * 2.71828**x) / (2.71828**x - 1)**2 #Go from 0 to 428/T\n",
    "function = lambda x: 9000 * bignum * (x/428)**3 * Simpson1(1, 428/x, 856, integrand)\n",
    "\n",
    "T = 10 # <<<<<<< This is our given T which we use to find the Cv\n",
    "print(function(T))\n",
    "\n",
    "#define the parameters for the plot\n",
    "left, right = 5, 500\n",
    "grain = 495\n",
    "x = np.linspace(left, right, grain)\n",
    "y = function(x)\n",
    "plt.plot(x, y)\n",
    "plt.xlabel('x')\n",
    "plt.ylabel('$Weird equation$')\n",
    "plt.xlim([left, right])\n",
    "plt.ylim([min(y), max(y)])\n",
    "plt.show()"
   ]
  },
  {
   "cell_type": "code",
   "execution_count": null,
   "id": "7bbc07c6",
   "metadata": {},
   "outputs": [],
   "source": []
  },
  {
   "cell_type": "code",
   "execution_count": null,
   "id": "159f3e99",
   "metadata": {},
   "outputs": [],
   "source": []
  }
 ],
 "metadata": {
  "kernelspec": {
   "display_name": "Python 3 (ipykernel)",
   "language": "python",
   "name": "python3"
  },
  "language_info": {
   "codemirror_mode": {
    "name": "ipython",
    "version": 3
   },
   "file_extension": ".py",
   "mimetype": "text/x-python",
   "name": "python",
   "nbconvert_exporter": "python",
   "pygments_lexer": "ipython3",
   "version": "3.9.5"
  }
 },
 "nbformat": 4,
 "nbformat_minor": 5
}
