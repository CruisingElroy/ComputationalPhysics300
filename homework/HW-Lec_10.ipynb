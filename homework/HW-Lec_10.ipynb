{
 "cells": [
  {
   "cell_type": "code",
   "execution_count": 5,
   "id": "04b0622f",
   "metadata": {},
   "outputs": [
    {
     "data": {
      "image/png": "[encoded data removed]",
      "text/plain": [
       "<Figure size 576x432 with 1 Axes>"
      ]
     },
     "metadata": {
      "needs_background": "light"
     },
     "output_type": "display_data"
    }
   ],
   "source": [
    "import matplotlib.pyplot as plt\n",
    "import numpy as np\n",
    "from cmath import exp, pi\n",
    "\n",
    "def dft1(y):\n",
    "    '''\n",
    "    This is a code to do decrete Fourier transform\n",
    "    '''    \n",
    "    N = len(y)\n",
    "    c = np.zeros(N, complex)\n",
    "    for k in range(N):\n",
    "        for n in range(N):\n",
    "            c[k] += y[n]*np.exp(-2j*np.pi*k*n/N)\n",
    "    return c\n",
    "\n",
    "def dft2(y):\n",
    "    '''\n",
    "    This is a improved code to do DFT\n",
    "    '''\n",
    "    x = np.asarray(y, dtype=float)        #N*1 array\n",
    "    N = y.shape[0]\n",
    "    n = np.arange(N)                      #1*N array\n",
    "    k = n.reshape((N, 1))                 #N*1 array\n",
    "    M = np.exp(-2j * np.pi * k * n / N)   #N*N matrix\n",
    "    return np.dot(M, x)                   #N*1 array\n",
    "\n",
    "def fft1(x):\n",
    "    '''\n",
    "    A recursive implementation of the 1D Cooley-Tukey FFT    \n",
    "    '''\n",
    "    x = np.asarray(x, dtype=float)\n",
    "    N = x.shape[0]\n",
    "    \n",
    "    if N % 2 > 0:\n",
    "        raise ValueError(\"size of x must be a power of 2\")\n",
    "    if N <= 16:  \n",
    "        return dft2(x)\n",
    "    else:\n",
    "        X_even = fft1(x[::2])\n",
    "        X_odd = fft1(x[1::2])\n",
    "        factor = np.exp(-2j * np.pi * np.arange(N) / N)\n",
    "        return np.concatenate([X_even + factor[:int(N/2)] * X_odd,\n",
    "                               X_even + factor[int(N/2):] * X_odd])\n",
    "    \n",
    "    \n",
    "\n",
    "f = lambda x: x**2 * np.sin(x)  \n",
    "\n",
    "left, right = 0,3\n",
    "grain = 128\n",
    "\n",
    "x = np.linspace(left, right, grain)\n",
    "y = f(x) + np.random.rand(grain) - 0.5\n",
    "\n",
    "fty = fft1(y).real/grain \n",
    "\n",
    "plt.figure(figsize = [8, 6])\n",
    "\n",
    "plt.plot(x,y, '.', label='noisy data')\n",
    "plt.plot(x,fty, label='fft')\n",
    "\n",
    "plt.xlabel('x')\n",
    "plt.ylabel('f(x)')\n",
    "plt.xlim([left, right])\n",
    "plt.legend(fontsize=12)\n",
    "\n",
    "'''\n",
    "Hmmm, so I do need an array size power-of-2 for fft1 to work, which is a major limitation. Also, it seems to have an \n",
    "interesting 'idea' of what an approximation is with this graph here. Strange. I'd thought it would do better at \n",
    "function approximation.\n",
    "'''\n",
    "\n",
    "plt.show()"
   ]
  },
  {
   "cell_type": "code",
   "execution_count": null,
   "id": "4d748310",
   "metadata": {},
   "outputs": [],
   "source": []
  }
 ],
 "metadata": {
  "kernelspec": {
   "display_name": "Python 3 (ipykernel)",
   "language": "python",
   "name": "python3"
  },
  "language_info": {
   "codemirror_mode": {
    "name": "ipython",
    "version": 3
   },
   "file_extension": ".py",
   "mimetype": "text/x-python",
   "name": "python",
   "nbconvert_exporter": "python",
   "pygments_lexer": "ipython3",
   "version": "3.9.5"
  }
 },
 "nbformat": 4,
 "nbformat_minor": 5
}
