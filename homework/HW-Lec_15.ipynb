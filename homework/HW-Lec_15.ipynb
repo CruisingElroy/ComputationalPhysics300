{
 "cells": [
  {
   "cell_type": "code",
   "execution_count": 4,
   "id": "05fbacd5",
   "metadata": {},
   "outputs": [
    {
     "name": "stdout",
     "output_type": "stream",
     "text": [
      "5.2219093604755074e-08\n",
      "0.9997714850254686\n"
     ]
    }
   ],
   "source": [
    "import numpy as np\n",
    "xmin, xmax = -2, 2\n",
    "\n",
    "f = lambda x: x**2 - 2*x + 1\n",
    "\n",
    "fmin = 100\n",
    "inxmin = None\n",
    "\n",
    "for i in range(10000):\n",
    "    x = xmin + np.random.random()*(xmax-xmin)\n",
    "    \n",
    "    if f(x) < fmin:\n",
    "        fmin = f(x)\n",
    "        inxmin = x\n",
    "\n",
    "print(fmin)\n",
    "print(inxmin)"
   ]
  },
  {
   "cell_type": "code",
   "execution_count": null,
   "id": "084603b4",
   "metadata": {},
   "outputs": [],
   "source": [
    "#Well, that was easy. At least I knew what to do here and how to do it."
   ]
  }
 ],
 "metadata": {
  "kernelspec": {
   "display_name": "Python 3 (ipykernel)",
   "language": "python",
   "name": "python3"
  },
  "language_info": {
   "codemirror_mode": {
    "name": "ipython",
    "version": 3
   },
   "file_extension": ".py",
   "mimetype": "text/x-python",
   "name": "python",
   "nbconvert_exporter": "python",
   "pygments_lexer": "ipython3",
   "version": "3.9.5"
  }
 },
 "nbformat": 4,
 "nbformat_minor": 5
}
