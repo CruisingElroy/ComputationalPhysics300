{
 "cells": [
  {
   "cell_type": "code",
   "execution_count": 7,
   "id": "81256bba",
   "metadata": {},
   "outputs": [
    {
     "name": "stdout",
     "output_type": "stream",
     "text": [
      "13.419668044107619\n"
     ]
    }
   ],
   "source": [
    "import numpy as np\n",
    "from scipy.integrate import quad\n",
    "from random import random #Import the sutff\n",
    "f = lambda x: 1/(x*(np.exp(x)+1)) # 1/((x**(1/2))*(np.exp(x)+1))\n",
    "w = lambda x: 1/x # 1/(x**(1/2))\n",
    "p = lambda x: 1/(x*np.log(x)) # 1/(2*x) # For the other function\n",
    "\n",
    "#Define the relevant functions\n",
    "\n",
    "def IMC(N):\n",
    "    const = quad(w, 0.000001, 1)[0] #Use a really tiny value that's just above zero\n",
    "    I = 0\n",
    "    for i in range(N):\n",
    "        x = random()\n",
    "        y = p(x)\n",
    "        I += f(y)/w(y)\n",
    "    return (I/N)*const \n",
    "'''\n",
    "How the function works:\n",
    "x is random, and y is random with respect to y. We've seen the equations explaining the relation of p(x) to w(x), so I'll \n",
    "just say that f is the actual function, w skews how we choose the points for greater accuracy, and I shows how we use the \n",
    "w function (weight) to actually affect our success rate, which is in the last line of the function. Just think of it like \n",
    "I is the number of successes, N is the number of attempts, and const is how wide our interval is so we don't wind up \n",
    "getting a percentage instead. It's not a super precise explanation, but I do feel like I understand what's going on a \n",
    "little better after explaining it out.\n",
    "'''\n",
    "\n",
    "print(IMC(1000000))#Do it for the mil, wolfram alpha says it's unbounded so the larger the value the more accurate, maybe"
   ]
  },
  {
   "cell_type": "code",
   "execution_count": null,
   "id": "5c41c644",
   "metadata": {},
   "outputs": [],
   "source": [
    "'''Interestingly enough, setting 0 to 0.1 gives me similar values to the old example. Otherwise, I get an error message I \n",
    "don't actually care about, as well as a higher value. I believe p is just supposed to be w inverse, but maybe I'm wrong. \n",
    "That's why I plan to ask the teacher about this in the following twelve hours!\n",
    "(After homework check: nope, p(x) was completely different, but at least we know now. I've fixed it now, I think.)'''"
   ]
  }
 ],
 "metadata": {
  "kernelspec": {
   "display_name": "Python 3 (ipykernel)",
   "language": "python",
   "name": "python3"
  },
  "language_info": {
   "codemirror_mode": {
    "name": "ipython",
    "version": 3
   },
   "file_extension": ".py",
   "mimetype": "text/x-python",
   "name": "python",
   "nbconvert_exporter": "python",
   "pygments_lexer": "ipython3",
   "version": "3.9.5"
  }
 },
 "nbformat": 4,
 "nbformat_minor": 5
}
