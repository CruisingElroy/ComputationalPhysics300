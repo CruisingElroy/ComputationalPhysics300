{
 "cells": [
  {
   "cell_type": "code",
   "execution_count": 92,
   "id": "7576af00",
   "metadata": {},
   "outputs": [
    {
     "name": "stdout",
     "output_type": "stream",
     "text": [
      "Best grade: 82.2%\n",
      "Average grade: 69.5%\n"
     ]
    }
   ],
   "source": [
    "import numpy as np\n",
    "from sklearn.datasets import load_wine #We are classifying wine today, fellow drinkers of age 21 or above\n",
    "from sklearn.model_selection import train_test_split\n",
    "from sklearn.neighbors import KNeighborsClassifier\n",
    "#So basically, find the closest k neighbors and judge the point based on that.\n",
    "\n",
    "dataset = load_wine()\n",
    "X = dataset.data\n",
    "Y = dataset.target\n",
    "\n",
    "\n",
    "X_train, X_test, y_train, y_test = train_test_split(X, Y)\n",
    "estimator = KNeighborsClassifier(n_neighbors = 7, weights = \"distance\", leaf_size = 50, p = 2)\n",
    "estimator.fit(X_train, y_train)\n",
    "y_predicted = estimator.predict(X_test)\n",
    "\n",
    "#This is how we evaluate ourselves\n",
    "test_scores = [] #Hopefully these will not be representative of my grades in class\n",
    "for i in range(200):\n",
    "    accuracy = np.mean(y_test == y_predicted) * 100\n",
    "    test_scores.append(accuracy)\n",
    "    #print(\"The accuracy is {0:.1f}%\".format(accuracy)) # With the best and average measures, this is a bit redundant\n",
    "    \n",
    "    # Redo the process, again. Considered making this a function, but it got repeat values and I figured it wasn't needed\n",
    "    X_train, X_test, y_train, y_test = train_test_split(X, Y)\n",
    "    estimator = KNeighborsClassifier(n_neighbors = 7, leaf_size = 20, p = 3)\n",
    "    estimator.fit(X_train, y_train)\n",
    "    y_predicted = estimator.predict(X_test)\n",
    "    \n",
    "print(\"Best grade: {0:.1f}%\".format(max(test_scores)))\n",
    "print(\"Average grade: {0:.1f}%\".format(np.mean(test_scores)))"
   ]
  },
  {
   "cell_type": "markdown",
   "id": "3eeb8340",
   "metadata": {},
   "source": [
    "Overall, it seems that the given weight functions have little to no impact on the accuracy, while having p vary from 2 seems to decrease the accuracy very slightly. Increasing the number of neighbors measured seems to increase the accuracy, as well as leaf size."
   ]
  },
  {
   "cell_type": "code",
   "execution_count": null,
   "id": "6bb69672",
   "metadata": {},
   "outputs": [],
   "source": []
  }
 ],
 "metadata": {
  "kernelspec": {
   "display_name": "Python 3 (ipykernel)",
   "language": "python",
   "name": "python3"
  },
  "language_info": {
   "codemirror_mode": {
    "name": "ipython",
    "version": 3
   },
   "file_extension": ".py",
   "mimetype": "text/x-python",
   "name": "python",
   "nbconvert_exporter": "python",
   "pygments_lexer": "ipython3",
   "version": "3.9.5"
  }
 },
 "nbformat": 4,
 "nbformat_minor": 5
}
