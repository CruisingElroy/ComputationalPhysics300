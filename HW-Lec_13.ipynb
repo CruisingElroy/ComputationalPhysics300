{
 "cells": [
  {
   "cell_type": "code",
   "execution_count": 76,
   "id": "db5348cf",
   "metadata": {},
   "outputs": [
    {
     "name": "stdout",
     "output_type": "stream",
     "text": [
      "1\n",
      "2\n"
     ]
    }
   ],
   "source": [
    "#import matplotlib.pyplot as plt #Dang thing doesn't seem to work for some reason?\n",
    "import numpy as np\n",
    "from numpy import random\n",
    "\n",
    "\n",
    "print(random.randint(1,7))\n",
    "print(random.randint(1,7))"
   ]
  },
  {
   "cell_type": "code",
   "execution_count": 72,
   "id": "b79df45d",
   "metadata": {},
   "outputs": [
    {
     "name": "stdout",
     "output_type": "stream",
     "text": [
      "0.027816\n"
     ]
    }
   ],
   "source": [
    "count = 0\n",
    "for i in range(0,2000000):\n",
    "    if random.randint(1,7) + random.randint(1,7) == 12: count += 1\n",
    "print(count/2000000)"
   ]
  },
  {
   "cell_type": "code",
   "execution_count": 73,
   "id": "3c0501ab",
   "metadata": {},
   "outputs": [
    {
     "name": "stdout",
     "output_type": "stream",
     "text": [
      "[434, 215, 1167, 948, 729, 510, 291, 72, 1024, 805, 586, 367, 148, 1100, 881, 662, 443, 224, 5, 957]\n",
      "-1\n",
      "-3\n",
      "5\n",
      "4\n",
      "2\n",
      "0\n",
      "-2\n",
      "-4\n",
      "4\n",
      "2\n",
      "1\n",
      "-1\n",
      "-3\n",
      "5\n",
      "3\n",
      "1\n",
      "-1\n",
      "-3\n",
      "-4\n",
      "4\n"
     ]
    },
    {
     "ename": "NameError",
     "evalue": "name 'plt' is not defined",
     "output_type": "error",
     "traceback": [
      "\u001b[1;31m---------------------------------------------------------------------------\u001b[0m",
      "\u001b[1;31mNameError\u001b[0m                                 Traceback (most recent call last)",
      "\u001b[1;32m~\\AppData\\Local\\Temp/ipykernel_19764/881800172.py\u001b[0m in \u001b[0;36m<module>\u001b[1;34m\u001b[0m\n\u001b[0;32m     12\u001b[0m \u001b[1;32mfor\u001b[0m \u001b[0mi\u001b[0m \u001b[1;32min\u001b[0m \u001b[0mresults\u001b[0m\u001b[1;33m:\u001b[0m\u001b[1;33m\u001b[0m\u001b[1;33m\u001b[0m\u001b[0m\n\u001b[0;32m     13\u001b[0m     \u001b[0mprint\u001b[0m\u001b[1;33m(\u001b[0m\u001b[0mint\u001b[0m\u001b[1;33m(\u001b[0m\u001b[1;33m(\u001b[0m\u001b[0mi\u001b[0m\u001b[1;33m/\u001b[0m\u001b[1;36m1171\u001b[0m\u001b[1;33m)\u001b[0m \u001b[1;33m*\u001b[0m \u001b[1;36m10\u001b[0m\u001b[1;33m)\u001b[0m \u001b[1;33m-\u001b[0m \u001b[1;36m4\u001b[0m\u001b[1;33m)\u001b[0m \u001b[1;31m#Divided by c, then times ten, finally minus four to get it in our range\u001b[0m\u001b[1;33m\u001b[0m\u001b[1;33m\u001b[0m\u001b[0m\n\u001b[1;32m---> 14\u001b[1;33m \u001b[0mplt\u001b[0m\u001b[1;33m.\u001b[0m\u001b[0mplot\u001b[0m\u001b[1;33m(\u001b[0m\u001b[0mresults\u001b[0m\u001b[1;33m,\u001b[0m \u001b[1;34m\"o\"\u001b[0m\u001b[1;33m)\u001b[0m\u001b[1;33m\u001b[0m\u001b[1;33m\u001b[0m\u001b[0m\n\u001b[0m",
      "\u001b[1;31mNameError\u001b[0m: name 'plt' is not defined"
     ]
    }
   ],
   "source": [
    "results = []\n",
    "a = 547\n",
    "c = 1171\n",
    "m = 17\n",
    "iteration = 653 #Prime numbers should probably make it more random through magic\n",
    "\n",
    "for i in range(20):\n",
    "    iteration = (a*m+iteration-150)%c #Throwing a -150 into there helps out, though now it avoids having immediate repeats\n",
    "    results.append(iteration)\n",
    "\n",
    "print(results)\n",
    "for i in results:\n",
    "    print(int((i/1171) * 10) - 4) #Divided by c, then times ten, finally minus four to get it in our range\n"
   ]
  },
  {
   "cell_type": "code",
   "execution_count": null,
   "id": "a6c53e82",
   "metadata": {},
   "outputs": [],
   "source": []
  }
 ],
 "metadata": {
  "kernelspec": {
   "display_name": "Python 3 (ipykernel)",
   "language": "python",
   "name": "python3"
  },
  "language_info": {
   "codemirror_mode": {
    "name": "ipython",
    "version": 3
   },
   "file_extension": ".py",
   "mimetype": "text/x-python",
   "name": "python",
   "nbconvert_exporter": "python",
   "pygments_lexer": "ipython3",
   "version": "3.9.5"
  }
 },
 "nbformat": 4,
 "nbformat_minor": 5
}
