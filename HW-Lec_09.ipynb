{
 "cells": [
  {
   "cell_type": "code",
   "execution_count": 12,
   "id": "26894cb9",
   "metadata": {},
   "outputs": [
    {
     "name": "stdout",
     "output_type": "stream",
     "text": [
      "[[  0   1   2 ... 205 206 207]\n",
      " [208 209 210 ... 157 158 159]\n",
      " [160 161 162 ... 109 110 111]\n",
      " ...\n",
      " [144 145 146 ...  93  94  95]\n",
      " [ 96  97  98 ...  45  46  47]\n",
      " [ 48  49  50 ... 253 254 255]]\n"
     ]
    },
    {
     "data": {
      "text/plain": [
       "\"\\nf = lambda x: 2*np.sin(x) + 1.5*np.cos(2*x) + np.sin(3*x)\\n\\n\\nleft, right = 0,20\\ngrain = 200\\n\\n\\nx = np.linspace(left,right,grain)\\ny = pic_array #Hopefully this works\\n\\n\\nc = dft(y)    \\ny1 = idft(c).real/grain \\n\\n#plot stuff\\nplt.plot(x,y, 'b*', label='noisy data')\\nplt.plot(x,f(x), 'r--', label='original function')\\nplt.plot(x,y1, 'y', label='idft')\\n\\nplt.xlabel('x')\\nplt.ylabel('$f(x)$')\\nplt.xlim([left, right])\\nplt.legend(loc='lower left')\\nplt.show()\\n\\n\\nfig, ax1 = plt.subplots()\\nax1.plot(np.abs(c), 'b-', label='Magnitude')\\n\\nax2 = ax1.twinx()\\nax2.plot(np.angle(c), 'r.-', label='Phase')\\nax1.legend(loc='upper left')\\nax2.legend(loc='upper right')\\nplt.show()\\n\""
      ]
     },
     "execution_count": 12,
     "metadata": {},
     "output_type": "execute_result"
    }
   ],
   "source": [
    "%matplotlib inline  \n",
    "\n",
    "#One thing's for sure: that's a big array. In fact, it's lagging so badly it's hard to do anything now. Welp\n",
    "\n",
    "#(After a while)\n",
    "#Ok, let's just import something from a library instead\n",
    "\n",
    "import matplotlib.pyplot as plt\n",
    "import numpy as np\n",
    "from cmath import exp, pi\n",
    "from PIL import Image as im #Here we go\n",
    "\n",
    "\n",
    "def dft(y):\n",
    "    '''\n",
    "    This is a code to do decrete Fourier transform\n",
    "    '''    \n",
    "    N = len(y)\n",
    "    c = np.zeros(N, complex)\n",
    "    for k in range(N):\n",
    "        for n in range(N):\n",
    "            c[k] += y[n]*exp(-2j*pi*k*n/N)\n",
    "    return c\n",
    "\n",
    "def idft(c):\n",
    "    '''\n",
    "    This is a code to do inverse Fourier transform\n",
    "    '''\n",
    "    N = len(c)\n",
    "    y = np.zeros(N, complex)\n",
    "    for k in range(N):\n",
    "        for n in range(N):\n",
    "            y[k] += c[n]*exp(2j*pi*k*n/N)\n",
    "    return y\n",
    "pic_array = np.arange(0, 737280, 1, np.uint8)\n",
    "pic_array = np.reshape(pic_array, (1024, 720))\n",
    "data = im.fromarray(pic_array)\n",
    "print(array)\n",
    "#data.save(\"gfg_dummy_pic.jpeg\")\n",
    "\n",
    "#Taking advantage of predefined functions, I can compress the process into a few lines. However, I did use a different\n",
    "#array than the one provided: one that was already set to work with the functions. I wasn't able to figure out how to\n",
    "#convert a bunch of random numbers into an image. However, it's obvious that the arrays are disgustingly large compared\n",
    "#to the compressed versions and images. Looking at wikipedia for further reference, the compressed images go down to only\n",
    "#a small percent of what the uncompressed ones were while still looking good, though there's a point where enough is enough.\n",
    "\n",
    "'''\n",
    "f = lambda x: 2*np.sin(x) + 1.5*np.cos(2*x) + np.sin(3*x)\n",
    "\n",
    "\n",
    "left, right = 0,20\n",
    "grain = 200\n",
    "\n",
    "\n",
    "x = np.linspace(left,right,grain)\n",
    "y = pic_array #Hopefully this works\n",
    "\n",
    "\n",
    "c = dft(y)    \n",
    "y1 = idft(c).real/grain \n",
    "\n",
    "#plot stuff\n",
    "plt.plot(x,y, 'b*', label='noisy data')\n",
    "plt.plot(x,f(x), 'r--', label='original function')\n",
    "plt.plot(x,y1, 'y', label='idft')\n",
    "\n",
    "plt.xlabel('x')\n",
    "plt.ylabel('$f(x)$')\n",
    "plt.xlim([left, right])\n",
    "plt.legend(loc='lower left')\n",
    "plt.show()\n",
    "\n",
    "\n",
    "fig, ax1 = plt.subplots()\n",
    "ax1.plot(np.abs(c), 'b-', label='Magnitude')\n",
    "\n",
    "ax2 = ax1.twinx()\n",
    "ax2.plot(np.angle(c), 'r.-', label='Phase')\n",
    "ax1.legend(loc='upper left')\n",
    "ax2.legend(loc='upper right')\n",
    "plt.show()\n",
    "'''"
   ]
  },
  {
   "cell_type": "code",
   "execution_count": null,
   "id": "5551048d",
   "metadata": {},
   "outputs": [],
   "source": []
  }
 ],
 "metadata": {
  "kernelspec": {
   "display_name": "Python 3 (ipykernel)",
   "language": "python",
   "name": "python3"
  },
  "language_info": {
   "codemirror_mode": {
    "name": "ipython",
    "version": 3
   },
   "file_extension": ".py",
   "mimetype": "text/x-python",
   "name": "python",
   "nbconvert_exporter": "python",
   "pygments_lexer": "ipython3",
   "version": "3.9.5"
  }
 },
 "nbformat": 4,
 "nbformat_minor": 5
}
